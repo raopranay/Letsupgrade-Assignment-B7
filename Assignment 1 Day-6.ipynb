{
 "cells": [
  {
   "cell_type": "code",
   "execution_count": 6,
   "metadata": {},
   "outputs": [],
   "source": [
    "class bank():\n",
    "    def __init__(self,ownerName,balance,deposit,withdraw):\n",
    "        self.ownerName=ownerName\n",
    "        self.balance=balance\n",
    "        self.deposit=deposit\n",
    "        self.withdraw=withdraw\n",
    "        \n",
    "    def getDetails(self):\n",
    "        print(\"Name:               \",self.ownerName)\n",
    "        print(\"Balance:            \",self.balance)\n",
    "        print(\"Today's Deposit:    \",self.deposit)\n",
    "        print(\"Withdrawn amount is:\",self.withdraw)\n",
    "        "
   ]
  },
  {
   "cell_type": "code",
   "execution_count": 7,
   "metadata": {},
   "outputs": [],
   "source": [
    "Axis = bank(\"Pranay Rao\",25000,1500,5000)"
   ]
  },
  {
   "cell_type": "code",
   "execution_count": 8,
   "metadata": {},
   "outputs": [
    {
     "name": "stdout",
     "output_type": "stream",
     "text": [
      "Name:                Pranay Rao\n",
      "Balance:             25000\n",
      "Today's Deposit:     1500\n",
      "Withdrawn amount is: 5000\n"
     ]
    }
   ],
   "source": [
    "Axis.getDetails()"
   ]
  },
  {
   "cell_type": "code",
   "execution_count": null,
   "metadata": {},
   "outputs": [],
   "source": []
  }
 ],
 "metadata": {
  "kernelspec": {
   "display_name": "Python 3",
   "language": "python",
   "name": "python3"
  },
  "language_info": {
   "codemirror_mode": {
    "name": "ipython",
    "version": 3
   },
   "file_extension": ".py",
   "mimetype": "text/x-python",
   "name": "python",
   "nbconvert_exporter": "python",
   "pygments_lexer": "ipython3",
   "version": "3.7.3"
  }
 },
 "nbformat": 4,
 "nbformat_minor": 2
}
